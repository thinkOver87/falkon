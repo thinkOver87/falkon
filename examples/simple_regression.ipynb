{
 "cells": [
  {
   "cell_type": "markdown",
   "metadata": {},
   "source": [
    "# Falkon Regression Tutorial\n",
    "\n",
    "## Introduction\n",
    "\n",
    "This notebook introduces the main interface of the Falkon library, \n",
    "using a toy regression problem.\n",
    "\n",
    "We will be using the Boston housing dataset which is included in `scikit-learn` to train a Falkon model.\n",
    "Since the dataset is very small, it is not necessary to use the Nystroem approximation here. It is however useful to demonstrate the simple API offered by Falkon."
   ]
  },
  {
   "cell_type": "code",
   "execution_count": 1,
   "metadata": {
    "pycharm": {
     "is_executing": false,
     "name": "#%%\n"
    }
   },
   "outputs": [],
   "source": [
    "%matplotlib inline\n",
    "from sklearn import datasets\n",
    "import numpy as np\n",
    "import torch\n",
    "import matplotlib.pyplot as plt\n",
    "plt.style.use('ggplot')\n",
    "\n",
    "import falkon"
   ]
  },
  {
   "cell_type": "markdown",
   "metadata": {},
   "source": [
    "## Load the data\n",
    "\n",
    "The Boston housing dataset poses a regression problem with 506 data points in 13 dimensions.\n",
    "The goal is to predict house prices given some attributes including criminality rates, air pollution, property value, etc.\n",
    "\n",
    "After loading the data, we split it into two parts: a training set (containing 80% of the points) and a test \n",
    "set with the remaining 20%. Data splitting could alternatively be done using some scikit-learn utilities (found in the [model_selection module](https://scikit-learn.org/stable/modules/cross_validation.html#cross-validation))"
   ]
  },
  {
   "cell_type": "code",
   "execution_count": 2,
   "metadata": {
    "pycharm": {
     "is_executing": false,
     "name": "#%%\n"
    }
   },
   "outputs": [],
   "source": [
    "X, Y = datasets.load_boston(return_X_y=True)"
   ]
  },
  {
   "cell_type": "code",
   "execution_count": 3,
   "metadata": {
    "pycharm": {
     "is_executing": false,
     "name": "#%%\n"
    }
   },
   "outputs": [],
   "source": [
    "num_train = int(X.shape[0] * 0.8)\n",
    "num_test = X.shape[0] - num_train\n",
    "shuffle_idx = np.arange(X.shape[0])\n",
    "np.random.shuffle(shuffle_idx)\n",
    "train_idx = shuffle_idx[:num_train]\n",
    "test_idx = shuffle_idx[num_train:]\n",
    "\n",
    "Xtrain, Ytrain = X[train_idx], Y[train_idx]\n",
    "Xtest, Ytest = X[test_idx], Y[test_idx]"
   ]
  },
  {
   "cell_type": "markdown",
   "metadata": {
    "pycharm": {
     "name": "#%% md\n"
    }
   },
   "source": [
    "## Pre-process the data\n",
    "\n",
    "We must convert the numpy arrays to PyTorch tensors before using them in Falkon.\n",
    "This is very easy and fast with the `torch.from_numpy` function.\n",
    "\n",
    "Another preprocessing step which is often necessary with kernel methods is to normalize the z-score of the data:\n",
    "convert it to have zero-mean and unit standard deviation.\n",
    "We use the statistics of the training data to avoid leakage between the two sets."
   ]
  },
  {
   "cell_type": "code",
   "execution_count": 4,
   "metadata": {
    "pycharm": {
     "is_executing": false,
     "name": "#%%\n"
    }
   },
   "outputs": [],
   "source": [
    "# convert numpy -> pytorch\n",
    "Xtrain = torch.from_numpy(Xtrain)\n",
    "Xtest = torch.from_numpy(Xtest)\n",
    "Ytrain = torch.from_numpy(Ytrain)\n",
    "Ytest = torch.from_numpy(Ytest)"
   ]
  },
  {
   "cell_type": "code",
   "execution_count": 5,
   "metadata": {
    "pycharm": {
     "is_executing": false,
     "name": "#%%\n"
    }
   },
   "outputs": [],
   "source": [
    "# z-score normalization\n",
    "train_mean = Xtrain.mean(0, keepdim=True)\n",
    "train_std = Xtrain.std(0, keepdim=True)\n",
    "Xtrain -= train_mean\n",
    "Xtrain /= train_std\n",
    "Xtest -= train_mean\n",
    "Xtest /= train_std"
   ]
  },
  {
   "cell_type": "markdown",
   "metadata": {
    "pycharm": {
     "name": "#%% md\n"
    }
   },
   "source": [
    "## Create the Falkon model\n",
    "\n",
    "The Falkon object is the main API of this library. \n",
    "It is similar in spirit to the fit-transform API of scikit-learn, while supporting some\n",
    "additional features such as monitoring of validation error.\n",
    "\n",
    "While Falkon models have many options, most are related to performance fine-tuning which becomes useful with much \n",
    "larger datasets.\n",
    "Here we only showcase some of the more basic options.\n",
    "\n",
    "Mandatory parameters are:\n",
    " - the kernel function (here we use a linear kernel)\n",
    " - the amount of regularization, which we set to some small positive value\n",
    " - the number of inducing points M. \n",
    "   Since the dataset is already very small, we use set `M=N` (every data-point is an inducing point). "
   ]
  },
  {
   "cell_type": "code",
   "execution_count": 6,
   "metadata": {
    "pycharm": {
     "is_executing": false,
     "name": "#%%\n"
    }
   },
   "outputs": [],
   "source": [
    "kernel = falkon.kernels.GaussianKernel(sigma=5)\n",
    "flk = falkon.Falkon(kernel=kernel, penalty=1e-4, M=Xtrain.shape[0])"
   ]
  },
  {
   "cell_type": "markdown",
   "metadata": {
    "pycharm": {
     "name": "#%% md\n"
    }
   },
   "source": [
    "## Training the model\n",
    "\n",
    "The Falkon model is trained using the preconditioned conjugate gradient algorithm (TODO: Add a reference). Thus there are\n",
    "two steps to the algorithm: first the preconditioner is computed, and then the conjugate gradient iterations are performed.\n",
    "To gain more insight in the various steps of the algorithm you can pass `debug=True` when creating the Falkon object. \n",
    "\n",
    "Model training will occur on the GPU, if it is available, and CUDA is properly installed, \n",
    "or on the CPU as a fallback. \n",
    "\n",
    "If KeOps has been installed alongside Falkon, the first run may take\n",
    "a bit longer due to the compilation step of KeOps (to avoid using KeOps you can pass the argument `no_keops=True` when \n",
    "creating the Falkon object)."
   ]
  },
  {
   "cell_type": "code",
   "execution_count": 7,
   "metadata": {
    "pycharm": {
     "is_executing": false,
     "name": "#%%\n"
    }
   },
   "outputs": [
    {
     "name": "stdout",
     "output_type": "stream",
     "text": [
      "Stopping conjugate gradient descent at iteration 2. Solution has converged.\n"
     ]
    },
    {
     "data": {
      "text/plain": [
       "Falkon(M=404, center_selection=<falkon.center_selection.UniformSel object at 0x7feede906190>, error_every=1, error_fn=None, kernel=GaussianKernel(sigma=5.0), maxiter=20, options=FalkonOptions(keops_acc_dtype='auto', keops_sum_scheme='auto', no_keops=False, chol_force_in_core=False, chol_force_ooc=False, chol_par_blk_multiplier=2, lauum_par_blk_multiplier=8, pc_epsilon_32=1e-05, pc_epsilon_64=1e-13, cpu_preconditioner=False, cg_epsilon_32=1e-07, cg_epsilon_64=1e-15, cg_tolerance=1e-07, cg_full_gradient_every=10, debug=False, use_cpu=False, max_gpu_mem=inf, max_cpu_mem=inf, compute_arch_speed=False, no_single_kernel=True), penalty=0.0001, seed=None)"
      ]
     },
     "execution_count": 7,
     "metadata": {},
     "output_type": "execute_result"
    }
   ],
   "source": [
    "flk.fit(Xtrain, Ytrain)"
   ]
  },
  {
   "cell_type": "markdown",
   "metadata": {},
   "source": [
    "Optimization converges very quickly to a minimum, where convergence is detected by checking the change model parameters between iterations."
   ]
  },
  {
   "cell_type": "markdown",
   "metadata": {
    "pycharm": {
     "name": "#%% md\n"
    }
   },
   "source": [
    "## Evaluating model performance"
   ]
  },
  {
   "cell_type": "markdown",
   "metadata": {},
   "source": [
    "Since the problem is regression a natural error metric is the RMSE. Given a fitted model, we can run the `predict` method to obtain predictions on new data.\n",
    "\n",
    "Here we print the error on both train and test sets."
   ]
  },
  {
   "cell_type": "code",
   "execution_count": 8,
   "metadata": {
    "pycharm": {
     "is_executing": false,
     "name": "#%%\n"
    }
   },
   "outputs": [
    {
     "name": "stdout",
     "output_type": "stream",
     "text": [
      "Training RMSE: 2.366\n",
      "Test RMSE: 3.786\n"
     ]
    }
   ],
   "source": [
    "train_pred = flk.predict(Xtrain).reshape(-1, )\n",
    "test_pred = flk.predict(Xtest).reshape(-1, )\n",
    "\n",
    "def rmse(true, pred):\n",
    "    return torch.sqrt(torch.mean((true.reshape(-1, 1) - pred.reshape(-1, 1))**2))\n",
    "\n",
    "print(\"Training RMSE: %.3f\" % (rmse(train_pred, Ytrain)))\n",
    "print(\"Test RMSE: %.3f\" % (rmse(test_pred, Ytest)))"
   ]
  },
  {
   "cell_type": "markdown",
   "metadata": {},
   "source": [
    "Finally we plot the model predictions to check that the distribution of our predictions is close to that of the labels."
   ]
  },
  {
   "cell_type": "code",
   "execution_count": 9,
   "metadata": {},
   "outputs": [
    {
     "data": {
      "text/plain": [
       "<matplotlib.legend.Legend at 0x7fdefbdb2fd0>"
      ]
     },
     "execution_count": 9,
     "metadata": {},
     "output_type": "execute_result"
    },
    {
     "data": {
      "image/png": "[encoded data removed]",
      "text/plain": [
       "<Figure size 432x288 with 1 Axes>"
      ]
     },
     "metadata": {},
     "output_type": "display_data"
    }
   ],
   "source": [
    "fig, ax = plt.subplots()\n",
    "ax.hist(Ytest, alpha=0.7, label=\"True\")\n",
    "ax.hist(test_pred, alpha=0.7, label=\"Pred\")\n",
    "ax.legend(loc=\"best\")"
   ]
  }
 ],
 "metadata": {
  "kernelspec": {
   "display_name": "Python 3",
   "language": "python",
   "name": "python3"
  },
  "language_info": {
   "codemirror_mode": {
    "name": "ipython",
    "version": 3
   },
   "file_extension": ".py",
   "mimetype": "text/x-python",
   "name": "python",
   "nbconvert_exporter": "python",
   "pygments_lexer": "ipython3",
   "version": "3.7.6"
  },
  "pycharm": {
   "stem_cell": {
    "cell_type": "raw",
    "metadata": {
     "collapsed": false
    },
    "source": []
   }
  },
  "toc": {
   "base_numbering": 1,
   "nav_menu": {},
   "number_sections": true,
   "sideBar": true,
   "skip_h1_title": false,
   "title_cell": "Table of Contents",
   "title_sidebar": "Contents",
   "toc_cell": false,
   "toc_position": {},
   "toc_section_display": true,
   "toc_window_display": false
  }
 },
 "nbformat": 4,
 "nbformat_minor": 1
}
